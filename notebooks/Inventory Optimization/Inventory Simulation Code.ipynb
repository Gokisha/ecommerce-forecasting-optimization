{
 "cells": [
  {
   "cell_type": "markdown",
   "id": "f7af6dfe-82f3-434a-8966-f266c0219d47",
   "metadata": {},
   "source": [
    "## Inventory Simulation Code (90 Days, All Products)"
   ]
  },
  {
   "cell_type": "code",
   "execution_count": 2,
   "id": "f1ae8e5f-ccf3-4a52-acd3-44f64deed51f",
   "metadata": {},
   "outputs": [],
   "source": [
    "import numpy as np\n",
    "import pandas as pd"
   ]
  },
  {
   "cell_type": "code",
   "execution_count": 3,
   "id": "3d311516-9a4e-4eea-9cd6-b0068bbe22c3",
   "metadata": {},
   "outputs": [],
   "source": [
    "# Load the rules and original dataset\n",
    "rules = pd.read_csv('inventory_rules.csv')\n",
    "sales = pd.read_csv('Sales_Data.csv')"
   ]
  },
  {
   "cell_type": "code",
   "execution_count": 4,
   "id": "08b4d5bf-f332-46d8-93dd-242bd4919e99",
   "metadata": {},
   "outputs": [],
   "source": [
    "# Merge to get initial inventory, price, and lead time\n",
    "products = sales.groupby('product_ID').agg({\n",
    "    'inventory_level': 'last',\n",
    "    'price': 'mean',\n",
    "    'order_lead_time': 'mean',\n",
    "    'demand_quantity': ['mean', 'std']\n",
    "}).reset_index()\n",
    "products.columns = ['product_ID', 'inventory_level', 'price', 'lead_time', 'demand_mean', 'demand_std']\n"
   ]
  },
  {
   "cell_type": "code",
   "execution_count": 5,
   "id": "26daa576-ffa9-42a0-8352-083ac43f8633",
   "metadata": {},
   "outputs": [],
   "source": [
    "# Merge with rules\n",
    "inventory = pd.merge(products, rules, on='product_ID')\n"
   ]
  },
  {
   "cell_type": "code",
   "execution_count": 6,
   "id": "07854888-0f2c-452d-81af-e1803335eba5",
   "metadata": {},
   "outputs": [],
   "source": [
    "# Simulation settings\n",
    "simulation_days = 90\n",
    "Z = 1.65\n",
    "ordering_cost = 200\n",
    "holding_cost_rate = 0.15\n",
    "results = []\n"
   ]
  },
  {
   "cell_type": "code",
   "execution_count": 8,
   "id": "905b2257-70c4-416f-b407-3f75836b6c78",
   "metadata": {},
   "outputs": [],
   "source": [
    "# Drop rows where any of the required fields are missing\n",
    "required_columns = ['inventory_level', 'lead_time', 'demand_mean', 'demand_std', 'ROP', 'EOQ', 'price']\n",
    "clean_inventory = inventory.dropna(subset=required_columns)\n",
    "\n",
    "# Optional: Also filter rows with invalid values (e.g., negative or zero)\n",
    "clean_inventory = clean_inventory[\n",
    "    (clean_inventory['lead_time'] > 0) &\n",
    "    (clean_inventory['EOQ'] > 0) &\n",
    "    (clean_inventory['demand_mean'] > 0) &\n",
    "    (clean_inventory['price'] > 0)\n",
    "].copy()"
   ]
  },
  {
   "cell_type": "code",
   "execution_count": 9,
   "id": "e3ce42bf-bc1f-4db4-8932-6bb6b7e34468",
   "metadata": {},
   "outputs": [],
   "source": [
    "# Run simulation per product\n",
    "for _, row in clean_inventory.iterrows():\n",
    "    inv = row['inventory_level']\n",
    "    on_order = 0\n",
    "    lead_time = int(row['lead_time'])\n",
    "    pipeline = [0] * lead_time\n",
    "    daily_demand_mu = row['demand_mean']\n",
    "    daily_demand_sigma = row['demand_std']\n",
    "    reorder_point = row['ROP']\n",
    "    order_qty = int(row['EOQ'])\n",
    "    price = row['price']\n",
    "    holding_cost_per_unit = price * holding_cost_rate / 365\n",
    "\n",
    "    stockouts = 0\n",
    "    total_orders = 0\n",
    "    holding_cost = 0\n",
    "    total_demand = 0\n",
    "    fulfilled_demand = 0\n",
    "\n",
    "    for day in range(simulation_days):\n",
    "        # Receive order if any\n",
    "        inv += pipeline.pop(0)\n",
    "        pipeline.append(0)\n",
    "\n",
    "        # Demand today\n",
    "        demand = max(0, int(np.random.normal(daily_demand_mu, daily_demand_sigma)))\n",
    "        total_demand += demand\n",
    "\n",
    "        if inv >= demand:\n",
    "            fulfilled_demand += demand\n",
    "            inv -= demand\n",
    "        else:\n",
    "            fulfilled_demand += inv\n",
    "            inv = 0\n",
    "            stockouts += 1\n",
    "\n",
    "        # Reorder decision\n",
    "        if inv + sum(pipeline) <= reorder_point:\n",
    "            pipeline[-1] += order_qty\n",
    "            total_orders += 1\n",
    "\n",
    "        # Holding cost\n",
    "        holding_cost += inv * holding_cost_per_unit\n",
    "\n",
    "    service_level = fulfilled_demand / total_demand if total_demand else 0\n",
    "\n",
    "    results.append({\n",
    "        'product_ID': row['product_ID'],\n",
    "        'product_name': row['product_name'],\n",
    "        'Total_Orders': total_orders,\n",
    "        'Stockout_Days': stockouts,\n",
    "        'Service_Level': round(service_level, 2),\n",
    "        'Avg_Holding_Cost': round(holding_cost, 2)\n",
    "    })\n",
    "\n"
   ]
  },
  {
   "cell_type": "code",
   "execution_count": 11,
   "id": "b890bfb3-8977-499d-9447-18ab6b09d301",
   "metadata": {},
   "outputs": [
    {
     "data": {
      "text/html": [
       "<div>\n",
       "<style scoped>\n",
       "    .dataframe tbody tr th:only-of-type {\n",
       "        vertical-align: middle;\n",
       "    }\n",
       "\n",
       "    .dataframe tbody tr th {\n",
       "        vertical-align: top;\n",
       "    }\n",
       "\n",
       "    .dataframe thead th {\n",
       "        text-align: right;\n",
       "    }\n",
       "</style>\n",
       "<table border=\"1\" class=\"dataframe\">\n",
       "  <thead>\n",
       "    <tr style=\"text-align: right;\">\n",
       "      <th></th>\n",
       "      <th>product_ID</th>\n",
       "      <th>product_name</th>\n",
       "      <th>Total_Orders</th>\n",
       "      <th>Stockout_Days</th>\n",
       "      <th>Service_Level</th>\n",
       "      <th>Avg_Holding_Cost</th>\n",
       "    </tr>\n",
       "  </thead>\n",
       "  <tbody>\n",
       "    <tr>\n",
       "      <th>0</th>\n",
       "      <td>10114</td>\n",
       "      <td>Stainless Steel Straws</td>\n",
       "      <td>90</td>\n",
       "      <td>69</td>\n",
       "      <td>0.01</td>\n",
       "      <td>3874.16</td>\n",
       "    </tr>\n",
       "    <tr>\n",
       "      <th>1</th>\n",
       "      <td>10335</td>\n",
       "      <td>Recipe Book Stand</td>\n",
       "      <td>90</td>\n",
       "      <td>81</td>\n",
       "      <td>0.02</td>\n",
       "      <td>1510.12</td>\n",
       "    </tr>\n",
       "    <tr>\n",
       "      <th>2</th>\n",
       "      <td>10447</td>\n",
       "      <td>Digital Kitchen Timer</td>\n",
       "      <td>90</td>\n",
       "      <td>75</td>\n",
       "      <td>0.01</td>\n",
       "      <td>2348.51</td>\n",
       "    </tr>\n",
       "    <tr>\n",
       "      <th>3</th>\n",
       "      <td>13101</td>\n",
       "      <td>Pumpkin Waffles</td>\n",
       "      <td>90</td>\n",
       "      <td>88</td>\n",
       "      <td>0.01</td>\n",
       "      <td>249.84</td>\n",
       "    </tr>\n",
       "    <tr>\n",
       "      <th>4</th>\n",
       "      <td>15006</td>\n",
       "      <td>Luxury Bathrobe</td>\n",
       "      <td>90</td>\n",
       "      <td>69</td>\n",
       "      <td>0.01</td>\n",
       "      <td>2137.76</td>\n",
       "    </tr>\n",
       "  </tbody>\n",
       "</table>\n",
       "</div>"
      ],
      "text/plain": [
       "   product_ID            product_name  Total_Orders  Stockout_Days  \\\n",
       "0       10114  Stainless Steel Straws            90             69   \n",
       "1       10335       Recipe Book Stand            90             81   \n",
       "2       10447   Digital Kitchen Timer            90             75   \n",
       "3       13101         Pumpkin Waffles            90             88   \n",
       "4       15006         Luxury Bathrobe            90             69   \n",
       "\n",
       "   Service_Level  Avg_Holding_Cost  \n",
       "0           0.01           3874.16  \n",
       "1           0.02           1510.12  \n",
       "2           0.01           2348.51  \n",
       "3           0.01            249.84  \n",
       "4           0.01           2137.76  "
      ]
     },
     "execution_count": 11,
     "metadata": {},
     "output_type": "execute_result"
    }
   ],
   "source": [
    "# Create simulation report\n",
    "simulation_report = pd.DataFrame(results)\n",
    "simulation_report.to_csv('inventory_simulation_report.csv', index=False)\n",
    "simulation_report.head()"
   ]
  },
  {
   "cell_type": "code",
   "execution_count": null,
   "id": "3e5207c1-433b-49c8-a162-fa5c831723d7",
   "metadata": {},
   "outputs": [],
   "source": []
  }
 ],
 "metadata": {
  "kernelspec": {
   "display_name": "Python 3 (ipykernel)",
   "language": "python",
   "name": "python3"
  },
  "language_info": {
   "codemirror_mode": {
    "name": "ipython",
    "version": 3
   },
   "file_extension": ".py",
   "mimetype": "text/x-python",
   "name": "python",
   "nbconvert_exporter": "python",
   "pygments_lexer": "ipython3",
   "version": "3.12.4"
  }
 },
 "nbformat": 4,
 "nbformat_minor": 5
}
