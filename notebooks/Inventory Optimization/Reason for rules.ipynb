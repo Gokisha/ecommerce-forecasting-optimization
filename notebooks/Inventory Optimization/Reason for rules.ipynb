{
 "cells": [
  {
   "cell_type": "code",
   "execution_count": 1,
   "id": "bf10bd64-2226-4158-ac58-3125150b0f13",
   "metadata": {},
   "outputs": [
    {
     "ename": "SyntaxError",
     "evalue": "invalid character '—' (U+2014) (680462119.py, line 3)",
     "output_type": "error",
     "traceback": [
      "\u001b[1;36m  Cell \u001b[1;32mIn[1], line 3\u001b[1;36m\u001b[0m\n\u001b[1;33m    | **EOQ**          | Economic Order Quantity | Tells you *how much* to order — balances ordering and holding costs              |\u001b[0m\n\u001b[1;37m                                                                                 ^\u001b[0m\n\u001b[1;31mSyntaxError\u001b[0m\u001b[1;31m:\u001b[0m invalid character '—' (U+2014)\n"
     ]
    }
   ],
   "source": [
    "\n",
    "\n",
    "Why Each Step Matters? (Inventory Rues)\n",
    "\n",
    "\n",
    "\n",
    "| Step             | What                    | Why                                                                              |\n",
    "| ---------------- | ----------------------- | -------------------------------------------------------------------------------- |\n",
    "| **EOQ**          | Economic Order Quantity | Tells you *how much* to order — balances ordering and holding costs              |\n",
    "| **ROP**          | Reorder Point           | Tells you *when* to order — ensures you don’t run out while waiting for delivery |\n",
    "| **Safety Stock** | Extra buffer            | Covers demand spikes or delays in delivery                                       |\n",
    "| **Simulation**   | Test scenarios          | Ensures your policy works under real-world demand variability                    |\n"
   ]
  },
  {
   "cell_type": "code",
   "execution_count": null,
   "id": "695b1f43-90ac-4a61-b2bc-cfa2066a72b9",
   "metadata": {},
   "outputs": [],
   "source": []
  }
 ],
 "metadata": {
  "kernelspec": {
   "display_name": "Python 3 (ipykernel)",
   "language": "python",
   "name": "python3"
  },
  "language_info": {
   "codemirror_mode": {
    "name": "ipython",
    "version": 3
   },
   "file_extension": ".py",
   "mimetype": "text/x-python",
   "name": "python",
   "nbconvert_exporter": "python",
   "pygments_lexer": "ipython3",
   "version": "3.12.4"
  }
 },
 "nbformat": 4,
 "nbformat_minor": 5
}
