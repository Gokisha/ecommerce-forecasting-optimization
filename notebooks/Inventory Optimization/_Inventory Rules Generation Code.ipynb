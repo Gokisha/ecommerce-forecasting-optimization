{
 "cells": [
  {
   "cell_type": "code",
   "execution_count": 1,
   "id": "08178b5f-b43e-4d67-854c-f0dd0f83327f",
   "metadata": {},
   "outputs": [],
   "source": [
    "import pandas as pd\n",
    "import numpy as np"
   ]
  },
  {
   "cell_type": "code",
   "execution_count": 2,
   "id": "d973ba51-be76-4140-9a34-2bcde5aa79e3",
   "metadata": {},
   "outputs": [],
   "source": [
    "# Load your dataset\n",
    "df = pd.read_csv('Sales_Data.csv')"
   ]
  },
  {
   "cell_type": "code",
   "execution_count": 3,
   "id": "0eade71c-e767-48ff-9777-c9da81b8f3ae",
   "metadata": {},
   "outputs": [],
   "source": [
    "# Assumptions\n",
    "ordering_cost = 200  # ₹ per order\n",
    "holding_cost_rate = 0.15  # 15% of unit price per year\n",
    "Z = 1.65  # 95% service level"
   ]
  },
  {
   "cell_type": "code",
   "execution_count": 4,
   "id": "543fada8-af8d-4171-8cf1-a80ce38af75b",
   "metadata": {},
   "outputs": [],
   "source": [
    "# Step 1: Aggregate product-level data\n",
    "inventory_summary = df.groupby('product_ID').agg({\n",
    "    'product_name': 'first',\n",
    "    'price': 'mean',\n",
    "    'demand_quantity': 'sum',\n",
    "    'order_lead_time': 'mean'\n",
    "}).reset_index()"
   ]
  },
  {
   "cell_type": "code",
   "execution_count": 5,
   "id": "6acf6429-dd92-46d9-bba0-cfd8e912a4e2",
   "metadata": {},
   "outputs": [],
   "source": [
    "# Step 2: Holding cost per unit\n",
    "inventory_summary['holding_cost'] = inventory_summary['price'] * holding_cost_rate\n"
   ]
  },
  {
   "cell_type": "code",
   "execution_count": 6,
   "id": "78423e73-b3c2-42f4-a7d6-d6fa46999642",
   "metadata": {},
   "outputs": [],
   "source": [
    "# Step 3: EOQ Calculation\n",
    "inventory_summary['EOQ'] = np.sqrt(\n",
    "    (2 * inventory_summary['demand_quantity'] * ordering_cost) / inventory_summary['holding_cost']\n",
    ")\n"
   ]
  },
  {
   "cell_type": "code",
   "execution_count": 7,
   "id": "54d5434f-92b4-4830-a653-659f22d4abe9",
   "metadata": {},
   "outputs": [],
   "source": [
    "# Step 4: Estimate daily demand stats\n",
    "daily_demand_stats = df.groupby('product_ID')['demand_quantity'].agg(['mean', 'std']).rename(\n",
    "    columns={'mean': 'daily_avg_demand', 'std': 'demand_std'}\n",
    ")\n"
   ]
  },
  {
   "cell_type": "code",
   "execution_count": 8,
   "id": "c5a92778-3fdf-4a45-9653-ba631c5e60ac",
   "metadata": {},
   "outputs": [
    {
     "name": "stderr",
     "output_type": "stream",
     "text": [
      "C:\\Users\\Groot\\AppData\\Local\\Temp\\ipykernel_11212\\2227255563.py:4: FutureWarning: A value is trying to be set on a copy of a DataFrame or Series through chained assignment using an inplace method.\n",
      "The behavior will change in pandas 3.0. This inplace method will never work because the intermediate object on which we are setting values always behaves as a copy.\n",
      "\n",
      "For example, when doing 'df[col].method(value, inplace=True)', try using 'df.method({col: value}, inplace=True)' or df[col] = df[col].method(value) instead, to perform the operation inplace on the original object.\n",
      "\n",
      "\n",
      "  inventory_summary['demand_std'].fillna(median_std, inplace=True)\n",
      "C:\\Users\\Groot\\AppData\\Local\\Temp\\ipykernel_11212\\2227255563.py:5: FutureWarning: A value is trying to be set on a copy of a DataFrame or Series through chained assignment using an inplace method.\n",
      "The behavior will change in pandas 3.0. This inplace method will never work because the intermediate object on which we are setting values always behaves as a copy.\n",
      "\n",
      "For example, when doing 'df[col].method(value, inplace=True)', try using 'df.method({col: value}, inplace=True)' or df[col] = df[col].method(value) instead, to perform the operation inplace on the original object.\n",
      "\n",
      "\n",
      "  inventory_summary['demand_std'].replace(0, median_std, inplace=True)\n"
     ]
    }
   ],
   "source": [
    "# Step 5: Merge and handle missing std\n",
    "inventory_summary = inventory_summary.merge(daily_demand_stats, on='product_ID')\n",
    "median_std = inventory_summary['demand_std'].median()\n",
    "inventory_summary['demand_std'].fillna(median_std, inplace=True)\n",
    "inventory_summary['demand_std'].replace(0, median_std, inplace=True)\n"
   ]
  },
  {
   "cell_type": "code",
   "execution_count": 9,
   "id": "afad9885-921d-419b-ae67-33068b583bf7",
   "metadata": {},
   "outputs": [],
   "source": [
    "# Step 6: Compute Safety Stock and ROP\n",
    "inventory_summary['Safety_Stock'] = Z * inventory_summary['demand_std'] * np.sqrt(inventory_summary['order_lead_time'])\n",
    "inventory_summary['ROP'] = (\n",
    "    inventory_summary['daily_avg_demand'] * inventory_summary['order_lead_time']\n",
    "    + inventory_summary['Safety_Stock']\n",
    ")\n"
   ]
  },
  {
   "cell_type": "code",
   "execution_count": 10,
   "id": "8c38abaf-b8cf-4a88-b043-a393b54efef7",
   "metadata": {},
   "outputs": [],
   "source": [
    "# Step 7: Finalize rule table\n",
    "inventory_rules = inventory_summary[[\n",
    "    'product_ID', 'product_name', 'EOQ', 'ROP', 'Safety_Stock'\n",
    "]]"
   ]
  },
  {
   "cell_type": "code",
   "execution_count": null,
   "id": "10c50460-53c2-4052-bdd5-df8e9c1588e5",
   "metadata": {},
   "outputs": [],
   "source": [
    "# Save as CSV\n",
    "inventory_rules.to_csv('inventory_rules.csv', index=False)"
   ]
  }
 ],
 "metadata": {
  "kernelspec": {
   "display_name": "Python 3 (ipykernel)",
   "language": "python",
   "name": "python3"
  },
  "language_info": {
   "codemirror_mode": {
    "name": "ipython",
    "version": 3
   },
   "file_extension": ".py",
   "mimetype": "text/x-python",
   "name": "python",
   "nbconvert_exporter": "python",
   "pygments_lexer": "ipython3",
   "version": "3.12.4"
  }
 },
 "nbformat": 4,
 "nbformat_minor": 5
}
